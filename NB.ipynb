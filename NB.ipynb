{
  "cells": [
    {
      "cell_type": "markdown",
      "metadata": {
        "id": "view-in-github",
        "colab_type": "text"
      },
      "source": [
        "<a href=\"https://colab.research.google.com/github/dineshRaja29/NaiveBayes/blob/main/NB.ipynb\" target=\"_parent\"><img src=\"https://colab.research.google.com/assets/colab-badge.svg\" alt=\"Open In Colab\"/></a>"
      ]
    },
    {
      "cell_type": "markdown",
      "source": [
        "##<font color='green'><b>INTRODUCTION </b></font>"
      ],
      "metadata": {
        "id": "GBuRxQoBfXjk"
      }
    },
    {
      "cell_type": "markdown",
      "source": [
        "<ol>\n",
        "    <li><strong>Applying Multinomial NaiveBayes on these feature sets</strong>\n",
        "        <ul>\n",
        "            <li>Review text, preprocessed one converted into vectors using BOW</li>\n",
        "            <li>Review text, preprocessed one converted into vectors using TFIDF</li>\n",
        "        </ul>\n",
        "    </li>\n",
        "    <br>\n",
        "    <li><strong>The hyper paramter tuning(find best Alpha)</strong>\n",
        "        <ul>\n",
        "    <li>Find the best hyper parameter which will give the maximum AUC value</li>\n",
        "    <li>Consider a wide range of alpha values for hyperparameter tuning, start as low as 0.00001</li>\n",
        "    <li>Find the best hyper paramter using k-fold cross validation or simple cross validation data</li>\n",
        "        </ul>\n",
        "    </li>\n",
        "    <br>\n",
        "    <li><strong>Feature importance</strong>\n",
        "        <ul>\n",
        "    <li>Find the top 10 features of positive class and top 10 features of negative class for both feature sets using values of `feature_log_prob_` parameter of  <a href='https://scikit-learn.org/stable/modules/generated/sklearn.naive_bayes.MultinomialNB.html'>MultinomialNB</a> and print their corresponding feature names</li>\n",
        "        </ul>\n",
        "    </li>\n",
        "</ol>"
      ],
      "metadata": {
        "id": "u60mcjKrfX6B"
      }
    },
    {
      "cell_type": "markdown",
      "source": [
        "##<font color='green'><b>DATASET DETAILS</b></font>"
      ],
      "metadata": {
        "id": "Zl8JGuPPgp1e"
      }
    },
    {
      "cell_type": "markdown",
      "metadata": {
        "id": "UIn1GsFNJkjH"
      },
      "source": [
        "Data Source: https://www.kaggle.com/snap/amazon-fine-food-reviews <br>\n",
        "\n",
        "EDA: https://nycdatascience.com/blog/student-works/amazon-fine-foods-visualization/\n",
        "\n",
        "\n",
        "The Amazon Fine Food Reviews dataset consists of reviews of fine foods from Amazon.<br>\n",
        "\n",
        "Number of reviews: 568,454<br>\n",
        "Number of users: 256,059<br>\n",
        "Number of products: 74,258<br>\n",
        "Timespan: Oct 1999 - Oct 2012<br>\n",
        "Number of Attributes/Columns in data: 10 \n",
        "\n",
        "Attribute Information:\n",
        "\n",
        "1. Id\n",
        "2. ProductId - unique identifier for the product\n",
        "3. UserId - unqiue identifier for the user\n",
        "4. ProfileName\n",
        "5. HelpfulnessNumerator - number of users who found the review helpful\n",
        "6. HelpfulnessDenominator - number of users who indicated whether they found the review helpful or not\n",
        "7. Score - rating between 1 and 5\n",
        "8. Time - timestamp for the review\n",
        "9. Summary - brief summary of the review\n",
        "10. Text - text of the review\n",
        "\n",
        "\n",
        "#### Objective:\n",
        "Given a review, determine whether the review is positive (rating of 4 or 5) or negative (rating of 1 or 2).\n",
        "\n",
        "We could use Score/Rating. A rating of 4 or 5 can be cosnidered as a positive review. A rating of 1 or 2 can be considered as negative one. A review of rating 3 is considered nuetral and such reviews are ignored from our analysis. This is an approximate and proxy way of determining the polarity (positivity/negativity) of a review.\n",
        "\n",
        "\n"
      ]
    },
    {
      "cell_type": "markdown",
      "metadata": {
        "id": "5Uf26aoLJkjJ"
      },
      "source": [
        "##<font color='green'><b>PREPROCESSING </b></font>"
      ]
    },
    {
      "cell_type": "markdown",
      "metadata": {
        "id": "yo-LaJg3JkjK"
      },
      "source": [
        "\n",
        "The dataset is available in two forms\n",
        "1. .csv file\n",
        "2. SQLite Database\n",
        "\n",
        "In order to load the data, We have used the SQLITE dataset as it is easier to query the data and visualise the data efficiently.\n",
        "<br> \n",
        "\n",
        "Here as we only want to get the global sentiment of the recommendations (positive or negative), we will purposefully ignore all Scores equal to 3. If the score is above 3, then the recommendation wil be set to \"positive\". Otherwise, it will be set to \"negative\"."
      ]
    },
    {
      "cell_type": "code",
      "execution_count": null,
      "metadata": {
        "collapsed": true,
        "id": "dLYq3BkfJkjL"
      },
      "outputs": [],
      "source": [
        "%matplotlib inline\n",
        "import warnings\n",
        "warnings.filterwarnings(\"ignore\")\n",
        "\n",
        "\n",
        "import sqlite3\n",
        "import pandas as pd\n",
        "import numpy as np\n",
        "import nltk\n",
        "import string\n",
        "import matplotlib.pyplot as plt\n",
        "import seaborn as sns\n",
        "from sklearn.feature_extraction.text import TfidfTransformer\n",
        "from sklearn.feature_extraction.text import TfidfVectorizer\n",
        "\n",
        "from sklearn.feature_extraction.text import CountVectorizer\n",
        "from sklearn.metrics import confusion_matrix\n",
        "from sklearn import metrics\n",
        "from sklearn.metrics import roc_curve, auc\n",
        "from nltk.stem.porter import PorterStemmer\n",
        "\n",
        "import re\n",
        "# Tutorial about Python regular expressions: https://pymotw.com/2/re/\n",
        "import string\n",
        "from nltk.corpus import stopwords\n",
        "from nltk.stem import PorterStemmer\n",
        "from nltk.stem.wordnet import WordNetLemmatizer\n",
        "\n",
        "from gensim.models import Word2Vec\n",
        "from gensim.models import KeyedVectors\n",
        "import pickle\n",
        "\n",
        "from tqdm import tqdm\n",
        "import os"
      ]
    },
    {
      "cell_type": "code",
      "execution_count": null,
      "metadata": {
        "colab": {
          "base_uri": "https://localhost:8080/",
          "height": 545
        },
        "id": "rXVxnx_NJkjO",
        "outputId": "21f587ea-bb08-454f-c4e8-0432d1c7ecec"
      },
      "outputs": [
        {
          "name": "stdout",
          "output_type": "stream",
          "text": [
            "Go to this URL in a browser: https://accounts.google.com/o/oauth2/auth?client_id=947318989803-6bn6qk8qdgf4n4g3pfee6491hc0brc4i.apps.googleusercontent.com&redirect_uri=urn%3Aietf%3Awg%3Aoauth%3A2.0%3Aoob&scope=email%20https%3A%2F%2Fwww.googleapis.com%2Fauth%2Fdocs.test%20https%3A%2F%2Fwww.googleapis.com%2Fauth%2Fdrive%20https%3A%2F%2Fwww.googleapis.com%2Fauth%2Fdrive.photos.readonly%20https%3A%2F%2Fwww.googleapis.com%2Fauth%2Fpeopleapi.readonly&response_type=code\n",
            "\n",
            "Enter your authorization code:\n",
            "··········\n",
            "Mounted at /content/drive\n",
            "Number of data points in our data (100000, 10)\n"
          ]
        },
        {
          "data": {
            "text/html": [
              "<div>\n",
              "<style scoped>\n",
              "    .dataframe tbody tr th:only-of-type {\n",
              "        vertical-align: middle;\n",
              "    }\n",
              "\n",
              "    .dataframe tbody tr th {\n",
              "        vertical-align: top;\n",
              "    }\n",
              "\n",
              "    .dataframe thead th {\n",
              "        text-align: right;\n",
              "    }\n",
              "</style>\n",
              "<table border=\"1\" class=\"dataframe\">\n",
              "  <thead>\n",
              "    <tr style=\"text-align: right;\">\n",
              "      <th></th>\n",
              "      <th>Id</th>\n",
              "      <th>ProductId</th>\n",
              "      <th>UserId</th>\n",
              "      <th>ProfileName</th>\n",
              "      <th>HelpfulnessNumerator</th>\n",
              "      <th>HelpfulnessDenominator</th>\n",
              "      <th>Score</th>\n",
              "      <th>Time</th>\n",
              "      <th>Summary</th>\n",
              "      <th>Text</th>\n",
              "    </tr>\n",
              "  </thead>\n",
              "  <tbody>\n",
              "    <tr>\n",
              "      <th>0</th>\n",
              "      <td>1</td>\n",
              "      <td>B001E4KFG0</td>\n",
              "      <td>A3SGXH7AUHU8GW</td>\n",
              "      <td>delmartian</td>\n",
              "      <td>1</td>\n",
              "      <td>1</td>\n",
              "      <td>1</td>\n",
              "      <td>1303862400</td>\n",
              "      <td>Good Quality Dog Food</td>\n",
              "      <td>I have bought several of the Vitality canned d...</td>\n",
              "    </tr>\n",
              "    <tr>\n",
              "      <th>1</th>\n",
              "      <td>2</td>\n",
              "      <td>B00813GRG4</td>\n",
              "      <td>A1D87F6ZCVE5NK</td>\n",
              "      <td>dll pa</td>\n",
              "      <td>0</td>\n",
              "      <td>0</td>\n",
              "      <td>0</td>\n",
              "      <td>1346976000</td>\n",
              "      <td>Not as Advertised</td>\n",
              "      <td>Product arrived labeled as Jumbo Salted Peanut...</td>\n",
              "    </tr>\n",
              "    <tr>\n",
              "      <th>2</th>\n",
              "      <td>3</td>\n",
              "      <td>B000LQOCH0</td>\n",
              "      <td>ABXLMWJIXXAIN</td>\n",
              "      <td>Natalia Corres \"Natalia Corres\"</td>\n",
              "      <td>1</td>\n",
              "      <td>1</td>\n",
              "      <td>1</td>\n",
              "      <td>1219017600</td>\n",
              "      <td>\"Delight\" says it all</td>\n",
              "      <td>This is a confection that has been around a fe...</td>\n",
              "    </tr>\n",
              "  </tbody>\n",
              "</table>\n",
              "</div>"
            ],
            "text/plain": [
              "   Id  ...                                               Text\n",
              "0   1  ...  I have bought several of the Vitality canned d...\n",
              "1   2  ...  Product arrived labeled as Jumbo Salted Peanut...\n",
              "2   3  ...  This is a confection that has been around a fe...\n",
              "\n",
              "[3 rows x 10 columns]"
            ]
          },
          "execution_count": 2,
          "metadata": {
            "tags": []
          },
          "output_type": "execute_result"
        }
      ],
      "source": [
        "# using SQLite Table to read data.\n",
        "from google.colab import drive\n",
        "drive.mount('/content/drive', force_remount=True)\n",
        "from PIL import Image\n",
        "\n",
        "con = sqlite3.connect('/content/drive/My Drive/database.sqlite') \n",
        "\n",
        "# filtering only positive and negative reviews i.e. \n",
        "# not taking into consideration those reviews with Score=3\n",
        "# SELECT * FROM Reviews WHERE Score != 3 LIMIT 500000, will give top 500000 data points\n",
        "# you can change the number to any other number based on your computing power\n",
        "\n",
        "# filtered_data = pd.read_sql_query(\"\"\" SELECT * FROM Reviews WHERE Score != 3 LIMIT 500000\"\"\", con) \n",
        "# for tsne assignment you can take 5k data points\n",
        "\n",
        "filtered_data = pd.read_sql_query(\"\"\" SELECT * FROM Reviews WHERE Score != 3 LIMIT 100000\"\"\", con) \n",
        "\n",
        "# Give reviews with Score>3 a positive rating(1), and reviews with a score<3 a negative rating(0).\n",
        "def partition(x):\n",
        "    if x < 3:\n",
        "        return 0\n",
        "    return 1\n",
        "\n",
        "#changing reviews with score less than 3 to be positive and vice-versa\n",
        "actualScore = filtered_data['Score']\n",
        "positiveNegative = actualScore.map(partition) \n",
        "filtered_data['Score'] = positiveNegative\n",
        "print(\"Number of data points in our data\", filtered_data.shape)\n",
        "filtered_data.head(3)"
      ]
    },
    {
      "cell_type": "code",
      "execution_count": null,
      "metadata": {
        "collapsed": true,
        "id": "ZLasp3QxJkjS"
      },
      "outputs": [],
      "source": [
        "display = pd.read_sql_query(\"\"\"\n",
        "SELECT UserId, ProductId, ProfileName, Time, Score, Text, COUNT(*)\n",
        "FROM Reviews\n",
        "GROUP BY UserId\n",
        "HAVING COUNT(*)>1\n",
        "\"\"\", con)"
      ]
    },
    {
      "cell_type": "code",
      "execution_count": null,
      "metadata": {
        "colab": {
          "base_uri": "https://localhost:8080/",
          "height": 310
        },
        "id": "pHzk_lUkJkjW",
        "outputId": "226e4538-f951-4638-bce9-ce6a74db4819",
        "scrolled": true
      },
      "outputs": [
        {
          "name": "stdout",
          "output_type": "stream",
          "text": [
            "(80668, 7)\n"
          ]
        },
        {
          "data": {
            "text/html": [
              "<div>\n",
              "<style scoped>\n",
              "    .dataframe tbody tr th:only-of-type {\n",
              "        vertical-align: middle;\n",
              "    }\n",
              "\n",
              "    .dataframe tbody tr th {\n",
              "        vertical-align: top;\n",
              "    }\n",
              "\n",
              "    .dataframe thead th {\n",
              "        text-align: right;\n",
              "    }\n",
              "</style>\n",
              "<table border=\"1\" class=\"dataframe\">\n",
              "  <thead>\n",
              "    <tr style=\"text-align: right;\">\n",
              "      <th></th>\n",
              "      <th>UserId</th>\n",
              "      <th>ProductId</th>\n",
              "      <th>ProfileName</th>\n",
              "      <th>Time</th>\n",
              "      <th>Score</th>\n",
              "      <th>Text</th>\n",
              "      <th>COUNT(*)</th>\n",
              "    </tr>\n",
              "  </thead>\n",
              "  <tbody>\n",
              "    <tr>\n",
              "      <th>0</th>\n",
              "      <td>#oc-R115TNMSPFT9I7</td>\n",
              "      <td>B007Y59HVM</td>\n",
              "      <td>Breyton</td>\n",
              "      <td>1331510400</td>\n",
              "      <td>2</td>\n",
              "      <td>Overall its just OK when considering the price...</td>\n",
              "      <td>2</td>\n",
              "    </tr>\n",
              "    <tr>\n",
              "      <th>1</th>\n",
              "      <td>#oc-R11D9D7SHXIJB9</td>\n",
              "      <td>B005HG9ET0</td>\n",
              "      <td>Louis E. Emory \"hoppy\"</td>\n",
              "      <td>1342396800</td>\n",
              "      <td>5</td>\n",
              "      <td>My wife has recurring extreme muscle spasms, u...</td>\n",
              "      <td>3</td>\n",
              "    </tr>\n",
              "    <tr>\n",
              "      <th>2</th>\n",
              "      <td>#oc-R11DNU2NBKQ23Z</td>\n",
              "      <td>B007Y59HVM</td>\n",
              "      <td>Kim Cieszykowski</td>\n",
              "      <td>1348531200</td>\n",
              "      <td>1</td>\n",
              "      <td>This coffee is horrible and unfortunately not ...</td>\n",
              "      <td>2</td>\n",
              "    </tr>\n",
              "    <tr>\n",
              "      <th>3</th>\n",
              "      <td>#oc-R11O5J5ZVQE25C</td>\n",
              "      <td>B005HG9ET0</td>\n",
              "      <td>Penguin Chick</td>\n",
              "      <td>1346889600</td>\n",
              "      <td>5</td>\n",
              "      <td>This will be the bottle that you grab from the...</td>\n",
              "      <td>3</td>\n",
              "    </tr>\n",
              "    <tr>\n",
              "      <th>4</th>\n",
              "      <td>#oc-R12KPBODL2B5ZD</td>\n",
              "      <td>B007OSBE1U</td>\n",
              "      <td>Christopher P. Presta</td>\n",
              "      <td>1348617600</td>\n",
              "      <td>1</td>\n",
              "      <td>I didnt like this coffee. Instead of telling y...</td>\n",
              "      <td>2</td>\n",
              "    </tr>\n",
              "  </tbody>\n",
              "</table>\n",
              "</div>"
            ],
            "text/plain": [
              "               UserId  ... COUNT(*)\n",
              "0  #oc-R115TNMSPFT9I7  ...        2\n",
              "1  #oc-R11D9D7SHXIJB9  ...        3\n",
              "2  #oc-R11DNU2NBKQ23Z  ...        2\n",
              "3  #oc-R11O5J5ZVQE25C  ...        3\n",
              "4  #oc-R12KPBODL2B5ZD  ...        2\n",
              "\n",
              "[5 rows x 7 columns]"
            ]
          },
          "execution_count": 4,
          "metadata": {
            "tags": []
          },
          "output_type": "execute_result"
        }
      ],
      "source": [
        "print(display.shape)\n",
        "display.head()"
      ]
    },
    {
      "cell_type": "code",
      "execution_count": null,
      "metadata": {
        "colab": {
          "base_uri": "https://localhost:8080/",
          "height": 98
        },
        "id": "HUsn2lg8Jkjb",
        "outputId": "d6e04667-3dbf-4d67-cf57-cc609fa4b1a3"
      },
      "outputs": [
        {
          "data": {
            "text/html": [
              "<div>\n",
              "<style scoped>\n",
              "    .dataframe tbody tr th:only-of-type {\n",
              "        vertical-align: middle;\n",
              "    }\n",
              "\n",
              "    .dataframe tbody tr th {\n",
              "        vertical-align: top;\n",
              "    }\n",
              "\n",
              "    .dataframe thead th {\n",
              "        text-align: right;\n",
              "    }\n",
              "</style>\n",
              "<table border=\"1\" class=\"dataframe\">\n",
              "  <thead>\n",
              "    <tr style=\"text-align: right;\">\n",
              "      <th></th>\n",
              "      <th>UserId</th>\n",
              "      <th>ProductId</th>\n",
              "      <th>ProfileName</th>\n",
              "      <th>Time</th>\n",
              "      <th>Score</th>\n",
              "      <th>Text</th>\n",
              "      <th>COUNT(*)</th>\n",
              "    </tr>\n",
              "  </thead>\n",
              "  <tbody>\n",
              "    <tr>\n",
              "      <th>80638</th>\n",
              "      <td>AZY10LLTJ71NX</td>\n",
              "      <td>B006P7E5ZI</td>\n",
              "      <td>undertheshrine \"undertheshrine\"</td>\n",
              "      <td>1334707200</td>\n",
              "      <td>5</td>\n",
              "      <td>I was recommended to try green tea extract to ...</td>\n",
              "      <td>5</td>\n",
              "    </tr>\n",
              "  </tbody>\n",
              "</table>\n",
              "</div>"
            ],
            "text/plain": [
              "              UserId  ... COUNT(*)\n",
              "80638  AZY10LLTJ71NX  ...        5\n",
              "\n",
              "[1 rows x 7 columns]"
            ]
          },
          "execution_count": 5,
          "metadata": {
            "tags": []
          },
          "output_type": "execute_result"
        }
      ],
      "source": [
        "display[display['UserId']=='AZY10LLTJ71NX']"
      ]
    },
    {
      "cell_type": "code",
      "execution_count": null,
      "metadata": {
        "colab": {
          "base_uri": "https://localhost:8080/",
          "height": 34
        },
        "id": "CyPhzHZKJkjf",
        "outputId": "33428bde-7a9d-4d13-9aab-da4ca5b50094"
      },
      "outputs": [
        {
          "data": {
            "text/plain": [
              "393063"
            ]
          },
          "execution_count": 6,
          "metadata": {
            "tags": []
          },
          "output_type": "execute_result"
        }
      ],
      "source": [
        "display['COUNT(*)'].sum()"
      ]
    },
    {
      "cell_type": "markdown",
      "metadata": {
        "id": "ZqpW3tWPJkjl"
      },
      "source": [
        "###<font color='green'><b>Data Cleaning: Deduplication\n",
        "\n",
        "It is observed (as shown in the table below) that the reviews data had many duplicate entries. Hence it was necessary to remove duplicates in order to get unbiased results for the analysis of the data.  Following is an example:"
      ]
    },
    {
      "cell_type": "code",
      "execution_count": null,
      "metadata": {
        "colab": {
          "base_uri": "https://localhost:8080/",
          "height": 573
        },
        "id": "fmlu_oooJkjl",
        "outputId": "4fe8d1fe-8870-4182-f5f9-a9e9414c3e88",
        "scrolled": false
      },
      "outputs": [
        {
          "data": {
            "text/html": [
              "<div>\n",
              "<style scoped>\n",
              "    .dataframe tbody tr th:only-of-type {\n",
              "        vertical-align: middle;\n",
              "    }\n",
              "\n",
              "    .dataframe tbody tr th {\n",
              "        vertical-align: top;\n",
              "    }\n",
              "\n",
              "    .dataframe thead th {\n",
              "        text-align: right;\n",
              "    }\n",
              "</style>\n",
              "<table border=\"1\" class=\"dataframe\">\n",
              "  <thead>\n",
              "    <tr style=\"text-align: right;\">\n",
              "      <th></th>\n",
              "      <th>Id</th>\n",
              "      <th>ProductId</th>\n",
              "      <th>UserId</th>\n",
              "      <th>ProfileName</th>\n",
              "      <th>HelpfulnessNumerator</th>\n",
              "      <th>HelpfulnessDenominator</th>\n",
              "      <th>Score</th>\n",
              "      <th>Time</th>\n",
              "      <th>Summary</th>\n",
              "      <th>Text</th>\n",
              "    </tr>\n",
              "  </thead>\n",
              "  <tbody>\n",
              "    <tr>\n",
              "      <th>0</th>\n",
              "      <td>78445</td>\n",
              "      <td>B000HDL1RQ</td>\n",
              "      <td>AR5J8UI46CURR</td>\n",
              "      <td>Geetha Krishnan</td>\n",
              "      <td>2</td>\n",
              "      <td>2</td>\n",
              "      <td>5</td>\n",
              "      <td>1199577600</td>\n",
              "      <td>LOACKER QUADRATINI VANILLA WAFERS</td>\n",
              "      <td>DELICIOUS WAFERS. I FIND THAT EUROPEAN WAFERS ...</td>\n",
              "    </tr>\n",
              "    <tr>\n",
              "      <th>1</th>\n",
              "      <td>138317</td>\n",
              "      <td>B000HDOPYC</td>\n",
              "      <td>AR5J8UI46CURR</td>\n",
              "      <td>Geetha Krishnan</td>\n",
              "      <td>2</td>\n",
              "      <td>2</td>\n",
              "      <td>5</td>\n",
              "      <td>1199577600</td>\n",
              "      <td>LOACKER QUADRATINI VANILLA WAFERS</td>\n",
              "      <td>DELICIOUS WAFERS. I FIND THAT EUROPEAN WAFERS ...</td>\n",
              "    </tr>\n",
              "    <tr>\n",
              "      <th>2</th>\n",
              "      <td>138277</td>\n",
              "      <td>B000HDOPYM</td>\n",
              "      <td>AR5J8UI46CURR</td>\n",
              "      <td>Geetha Krishnan</td>\n",
              "      <td>2</td>\n",
              "      <td>2</td>\n",
              "      <td>5</td>\n",
              "      <td>1199577600</td>\n",
              "      <td>LOACKER QUADRATINI VANILLA WAFERS</td>\n",
              "      <td>DELICIOUS WAFERS. I FIND THAT EUROPEAN WAFERS ...</td>\n",
              "    </tr>\n",
              "    <tr>\n",
              "      <th>3</th>\n",
              "      <td>73791</td>\n",
              "      <td>B000HDOPZG</td>\n",
              "      <td>AR5J8UI46CURR</td>\n",
              "      <td>Geetha Krishnan</td>\n",
              "      <td>2</td>\n",
              "      <td>2</td>\n",
              "      <td>5</td>\n",
              "      <td>1199577600</td>\n",
              "      <td>LOACKER QUADRATINI VANILLA WAFERS</td>\n",
              "      <td>DELICIOUS WAFERS. I FIND THAT EUROPEAN WAFERS ...</td>\n",
              "    </tr>\n",
              "    <tr>\n",
              "      <th>4</th>\n",
              "      <td>155049</td>\n",
              "      <td>B000PAQ75C</td>\n",
              "      <td>AR5J8UI46CURR</td>\n",
              "      <td>Geetha Krishnan</td>\n",
              "      <td>2</td>\n",
              "      <td>2</td>\n",
              "      <td>5</td>\n",
              "      <td>1199577600</td>\n",
              "      <td>LOACKER QUADRATINI VANILLA WAFERS</td>\n",
              "      <td>DELICIOUS WAFERS. I FIND THAT EUROPEAN WAFERS ...</td>\n",
              "    </tr>\n",
              "  </tbody>\n",
              "</table>\n",
              "</div>"
            ],
            "text/plain": [
              "       Id  ...                                               Text\n",
              "0   78445  ...  DELICIOUS WAFERS. I FIND THAT EUROPEAN WAFERS ...\n",
              "1  138317  ...  DELICIOUS WAFERS. I FIND THAT EUROPEAN WAFERS ...\n",
              "2  138277  ...  DELICIOUS WAFERS. I FIND THAT EUROPEAN WAFERS ...\n",
              "3   73791  ...  DELICIOUS WAFERS. I FIND THAT EUROPEAN WAFERS ...\n",
              "4  155049  ...  DELICIOUS WAFERS. I FIND THAT EUROPEAN WAFERS ...\n",
              "\n",
              "[5 rows x 10 columns]"
            ]
          },
          "execution_count": 7,
          "metadata": {
            "tags": []
          },
          "output_type": "execute_result"
        }
      ],
      "source": [
        "display= pd.read_sql_query(\"\"\"\n",
        "SELECT *\n",
        "FROM Reviews\n",
        "WHERE Score != 3 AND UserId=\"AR5J8UI46CURR\"\n",
        "ORDER BY ProductID\n",
        "\"\"\", con)\n",
        "display.head()"
      ]
    },
    {
      "cell_type": "markdown",
      "metadata": {
        "id": "pvogJHEyJkjq"
      },
      "source": [
        "As it can be seen above that same user has multiple reviews with same values for HelpfulnessNumerator, HelpfulnessDenominator, Score, Time, Summary and Text and on doing analysis it was found that <br>\n",
        "<br> \n",
        "ProductId=B000HDOPZG was Loacker Quadratini Vanilla Wafer Cookies, 8.82-Ounce Packages (Pack of 8)<br>\n",
        "<br> \n",
        "ProductId=B000HDL1RQ was Loacker Quadratini Lemon Wafer Cookies, 8.82-Ounce Packages (Pack of 8) and so on<br>\n",
        "\n",
        "It was inferred after analysis that reviews with same parameters other than ProductId belonged to the same product just having different flavour or quantity. Hence in order to reduce redundancy it was decided to eliminate the rows having same parameters.<br>\n",
        "\n",
        "The method used for the same was that we first sort the data according to ProductId and then just keep the first similar product review and delelte the others. for eg. in the above just the review for ProductId=B000HDL1RQ remains. This method ensures that there is only one representative for each product and deduplication without sorting would lead to possibility of different representatives still existing for the same product."
      ]
    },
    {
      "cell_type": "code",
      "execution_count": null,
      "metadata": {
        "collapsed": true,
        "id": "LAWOrfBaJkjr"
      },
      "outputs": [],
      "source": [
        "#Sorting data according to ProductId in ascending order\n",
        "sorted_data=filtered_data.sort_values('ProductId', axis=0, ascending=True, inplace=False, kind='quicksort', na_position='last')"
      ]
    },
    {
      "cell_type": "code",
      "execution_count": null,
      "metadata": {
        "colab": {
          "base_uri": "https://localhost:8080/",
          "height": 34
        },
        "id": "dfaQob28Jkju",
        "outputId": "8a36e58e-c7ab-4fe9-dc6b-50b936176ef5"
      },
      "outputs": [
        {
          "data": {
            "text/plain": [
              "(87775, 10)"
            ]
          },
          "execution_count": 9,
          "metadata": {
            "tags": []
          },
          "output_type": "execute_result"
        }
      ],
      "source": [
        "#Deduplication of entries\n",
        "final=sorted_data.drop_duplicates(subset={\"UserId\",\"ProfileName\",\"Time\",\"Text\"}, keep='first', inplace=False)\n",
        "final.shape"
      ]
    },
    {
      "cell_type": "code",
      "execution_count": null,
      "metadata": {
        "colab": {
          "base_uri": "https://localhost:8080/",
          "height": 34
        },
        "id": "9QVxT6oxJkjx",
        "outputId": "b71d74c2-ed38-412a-bf73-f94f4a39c752"
      },
      "outputs": [
        {
          "data": {
            "text/plain": [
              "87.775"
            ]
          },
          "execution_count": 10,
          "metadata": {
            "tags": []
          },
          "output_type": "execute_result"
        }
      ],
      "source": [
        "#Checking to see how much % of data still remains\n",
        "(final['Id'].size*1.0)/(filtered_data['Id'].size*1.0)*100"
      ]
    },
    {
      "cell_type": "markdown",
      "metadata": {
        "id": "qVaxONHLJkj1"
      },
      "source": [
        "<b>Observation:-</b> It was also seen that in two rows given below the value of HelpfulnessNumerator is greater than HelpfulnessDenominator which is not practically possible hence these two rows too are removed from calcualtions"
      ]
    },
    {
      "cell_type": "code",
      "execution_count": null,
      "metadata": {
        "colab": {
          "base_uri": "https://localhost:8080/",
          "height": 340
        },
        "id": "vLoqfOjcJkj1",
        "outputId": "80b0135c-c751-4a9d-ed90-8cad2e8228e1"
      },
      "outputs": [
        {
          "data": {
            "text/html": [
              "<div>\n",
              "<style scoped>\n",
              "    .dataframe tbody tr th:only-of-type {\n",
              "        vertical-align: middle;\n",
              "    }\n",
              "\n",
              "    .dataframe tbody tr th {\n",
              "        vertical-align: top;\n",
              "    }\n",
              "\n",
              "    .dataframe thead th {\n",
              "        text-align: right;\n",
              "    }\n",
              "</style>\n",
              "<table border=\"1\" class=\"dataframe\">\n",
              "  <thead>\n",
              "    <tr style=\"text-align: right;\">\n",
              "      <th></th>\n",
              "      <th>Id</th>\n",
              "      <th>ProductId</th>\n",
              "      <th>UserId</th>\n",
              "      <th>ProfileName</th>\n",
              "      <th>HelpfulnessNumerator</th>\n",
              "      <th>HelpfulnessDenominator</th>\n",
              "      <th>Score</th>\n",
              "      <th>Time</th>\n",
              "      <th>Summary</th>\n",
              "      <th>Text</th>\n",
              "    </tr>\n",
              "  </thead>\n",
              "  <tbody>\n",
              "    <tr>\n",
              "      <th>0</th>\n",
              "      <td>64422</td>\n",
              "      <td>B000MIDROQ</td>\n",
              "      <td>A161DK06JJMCYF</td>\n",
              "      <td>J. E. Stephens \"Jeanne\"</td>\n",
              "      <td>3</td>\n",
              "      <td>1</td>\n",
              "      <td>5</td>\n",
              "      <td>1224892800</td>\n",
              "      <td>Bought This for My Son at College</td>\n",
              "      <td>My son loves spaghetti so I didn't hesitate or...</td>\n",
              "    </tr>\n",
              "    <tr>\n",
              "      <th>1</th>\n",
              "      <td>44737</td>\n",
              "      <td>B001EQ55RW</td>\n",
              "      <td>A2V0I904FH7ABY</td>\n",
              "      <td>Ram</td>\n",
              "      <td>3</td>\n",
              "      <td>2</td>\n",
              "      <td>4</td>\n",
              "      <td>1212883200</td>\n",
              "      <td>Pure cocoa taste with crunchy almonds inside</td>\n",
              "      <td>It was almost a 'love at first bite' - the per...</td>\n",
              "    </tr>\n",
              "  </tbody>\n",
              "</table>\n",
              "</div>"
            ],
            "text/plain": [
              "      Id  ...                                               Text\n",
              "0  64422  ...  My son loves spaghetti so I didn't hesitate or...\n",
              "1  44737  ...  It was almost a 'love at first bite' - the per...\n",
              "\n",
              "[2 rows x 10 columns]"
            ]
          },
          "execution_count": 11,
          "metadata": {
            "tags": []
          },
          "output_type": "execute_result"
        }
      ],
      "source": [
        "display= pd.read_sql_query(\"\"\"\n",
        "SELECT *\n",
        "FROM Reviews\n",
        "WHERE Score != 3 AND Id=44737 OR Id=64422\n",
        "ORDER BY ProductID\n",
        "\"\"\", con)\n",
        "\n",
        "display.head()"
      ]
    },
    {
      "cell_type": "code",
      "execution_count": null,
      "metadata": {
        "collapsed": true,
        "id": "f_185ozFJkj9"
      },
      "outputs": [],
      "source": [
        "final=final[final.HelpfulnessNumerator<=final.HelpfulnessDenominator]"
      ]
    },
    {
      "cell_type": "code",
      "execution_count": null,
      "metadata": {
        "colab": {
          "base_uri": "https://localhost:8080/",
          "height": 86
        },
        "id": "CofRySJyJkkC",
        "outputId": "e00f8cbe-321d-4770-becb-da177a65308e"
      },
      "outputs": [
        {
          "name": "stdout",
          "output_type": "stream",
          "text": [
            "(87773, 10)\n"
          ]
        },
        {
          "data": {
            "text/plain": [
              "1    73592\n",
              "0    14181\n",
              "Name: Score, dtype: int64"
            ]
          },
          "execution_count": 13,
          "metadata": {
            "tags": []
          },
          "output_type": "execute_result"
        }
      ],
      "source": [
        "#Before starting the next phase of preprocessing lets see the number of entries left\n",
        "print(final.shape)\n",
        "\n",
        "#How many positive and negative reviews are present in our dataset?\n",
        "final['Score'].value_counts()"
      ]
    },
    {
      "cell_type": "markdown",
      "metadata": {
        "id": "-fEWeywxJkkI"
      },
      "source": [
        "###<font color='green'><b>TEXT NORMALIZATION"
      ]
    },
    {
      "cell_type": "markdown",
      "metadata": {
        "id": "tzpbt9aOJkkJ"
      },
      "source": [
        "1. Begin by removing the html tags\n",
        "2. Remove any punctuations or limited set of special characters like , or . or # etc.\n",
        "3. Check if the word is made up of english letters and is not alpha-numeric\n",
        "4. Check to see if the length of the word is greater than 2 (as it was researched that there is no adjective in 2-letters)\n",
        "5. Convert the word to lowercase\n",
        "6. Remove Stopwords\n",
        "7. Stemming"
      ]
    },
    {
      "cell_type": "code",
      "execution_count": null,
      "metadata": {
        "colab": {
          "base_uri": "https://localhost:8080/",
          "height": 176
        },
        "id": "YqxBeLk8JkkL",
        "outputId": "be12ca1d-8a85-4092-8c0b-bc0abd948fc2"
      },
      "outputs": [
        {
          "name": "stdout",
          "output_type": "stream",
          "text": [
            "My dogs loves this chicken but its a product from China, so we wont be buying it anymore.  Its very hard to find any chicken products made in the USA but they are out there, but this one isnt.  Its too bad too because its a good product but I wont take any chances till they know what is going on with the china imports.\n",
            "==================================================\n",
            "The Candy Blocks were a nice visual for the Lego Birthday party but the candy has little taste to it.  Very little of the 2 lbs that I bought were eaten and I threw the rest away.  I would not buy the candy again.\n",
            "==================================================\n",
            "was way to hot for my blood, took a bite and did a jig  lol\n",
            "==================================================\n",
            "My dog LOVES these treats. They tend to have a very strong fish oil smell. So if you are afraid of the fishy smell, don't get it. But I think my dog likes it because of the smell. These treats are really small in size. They are great for training. You can give your dog several of these without worrying about him over eating. Amazon's price was much more reasonable than any other retailer. You can buy a 1 pound bag on Amazon for almost the same price as a 6 ounce bag at other retailers. It's definitely worth it to buy a big bag if your dog eats them a lot.\n",
            "==================================================\n"
          ]
        }
      ],
      "source": [
        "# printing some random reviews\n",
        "sent_0 = final['Text'].values[0]\n",
        "print(sent_0)\n",
        "print(\"=\"*50)\n",
        "\n",
        "sent_1000 = final['Text'].values[1000]\n",
        "print(sent_1000)\n",
        "print(\"=\"*50)\n",
        "\n",
        "sent_1500 = final['Text'].values[1500]\n",
        "print(sent_1500)\n",
        "print(\"=\"*50)\n",
        "\n",
        "sent_4900 = final['Text'].values[4900]\n",
        "print(sent_4900)\n",
        "print(\"=\"*50)"
      ]
    },
    {
      "cell_type": "code",
      "execution_count": null,
      "metadata": {
        "colab": {
          "base_uri": "https://localhost:8080/",
          "height": 54
        },
        "id": "lWiJ2_9gJkkP",
        "outputId": "846c29d1-d5b6-4c2a-92de-1d360156425e"
      },
      "outputs": [
        {
          "name": "stdout",
          "output_type": "stream",
          "text": [
            "My dogs loves this chicken but its a product from China, so we wont be buying it anymore.  Its very hard to find any chicken products made in the USA but they are out there, but this one isnt.  Its too bad too because its a good product but I wont take any chances till they know what is going on with the china imports.\n"
          ]
        }
      ],
      "source": [
        "# remove urls from text python: https://stackoverflow.com/a/40823105/4084039\n",
        "sent_0 = re.sub(r\"http\\S+\", \"\", sent_0)\n",
        "sent_1000 = re.sub(r\"http\\S+\", \"\", sent_1000)\n",
        "sent_150 = re.sub(r\"http\\S+\", \"\", sent_1500)\n",
        "sent_4900 = re.sub(r\"http\\S+\", \"\", sent_4900)\n",
        "\n",
        "print(sent_0)"
      ]
    },
    {
      "cell_type": "code",
      "execution_count": null,
      "metadata": {
        "colab": {
          "base_uri": "https://localhost:8080/",
          "height": 159
        },
        "id": "cpLtZ-lAJkkR",
        "outputId": "2832fe2d-3bb1-4bca-cb8b-33068e9fe6a9"
      },
      "outputs": [
        {
          "name": "stdout",
          "output_type": "stream",
          "text": [
            "My dogs loves this chicken but its a product from China, so we wont be buying it anymore.  Its very hard to find any chicken products made in the USA but they are out there, but this one isnt.  Its too bad too because its a good product but I wont take any chances till they know what is going on with the china imports.\n",
            "==================================================\n",
            "The Candy Blocks were a nice visual for the Lego Birthday party but the candy has little taste to it.  Very little of the 2 lbs that I bought were eaten and I threw the rest away.  I would not buy the candy again.\n",
            "==================================================\n",
            "was way to hot for my blood, took a bite and did a jig  lol\n",
            "==================================================\n",
            "My dog LOVES these treats. They tend to have a very strong fish oil smell. So if you are afraid of the fishy smell, don't get it. But I think my dog likes it because of the smell. These treats are really small in size. They are great for training. You can give your dog several of these without worrying about him over eating. Amazon's price was much more reasonable than any other retailer. You can buy a 1 pound bag on Amazon for almost the same price as a 6 ounce bag at other retailers. It's definitely worth it to buy a big bag if your dog eats them a lot.\n"
          ]
        }
      ],
      "source": [
        "# https://stackoverflow.com/questions/16206380/python-beautifulsoup-how-to-remove-all-tags-from-an-element\n",
        "from bs4 import BeautifulSoup\n",
        "\n",
        "soup = BeautifulSoup(sent_0, 'lxml')\n",
        "text = soup.get_text()\n",
        "print(text)\n",
        "print(\"=\"*50)\n",
        "\n",
        "soup = BeautifulSoup(sent_1000, 'lxml')\n",
        "text = soup.get_text()\n",
        "print(text)\n",
        "print(\"=\"*50)\n",
        "\n",
        "soup = BeautifulSoup(sent_1500, 'lxml')\n",
        "text = soup.get_text()\n",
        "print(text)\n",
        "print(\"=\"*50)\n",
        "\n",
        "soup = BeautifulSoup(sent_4900, 'lxml')\n",
        "text = soup.get_text()\n",
        "print(text)"
      ]
    },
    {
      "cell_type": "code",
      "execution_count": null,
      "metadata": {
        "collapsed": true,
        "id": "HYBbtiCMJkkW"
      },
      "outputs": [],
      "source": [
        "# https://stackoverflow.com/a/47091490/4084039\n",
        "import re\n",
        "\n",
        "def decontracted(phrase):\n",
        "    # specific\n",
        "    phrase = re.sub(r\"won't\", \"will not\", phrase)\n",
        "    phrase = re.sub(r\"can\\'t\", \"can not\", phrase)\n",
        "\n",
        "    # general\n",
        "    phrase = re.sub(r\"n\\'t\", \" not\", phrase)\n",
        "    phrase = re.sub(r\"\\'re\", \" are\", phrase)\n",
        "    phrase = re.sub(r\"\\'s\", \" is\", phrase)\n",
        "    phrase = re.sub(r\"\\'d\", \" would\", phrase)\n",
        "    phrase = re.sub(r\"\\'ll\", \" will\", phrase)\n",
        "    phrase = re.sub(r\"\\'t\", \" not\", phrase)\n",
        "    phrase = re.sub(r\"\\'ve\", \" have\", phrase)\n",
        "    phrase = re.sub(r\"\\'m\", \" am\", phrase)\n",
        "    return phrase"
      ]
    },
    {
      "cell_type": "code",
      "execution_count": null,
      "metadata": {
        "colab": {
          "base_uri": "https://localhost:8080/",
          "height": 52
        },
        "id": "WPQSZurTJkkY",
        "outputId": "b1fdaf8b-3d0c-47c8-b9ad-bcff5045f97c"
      },
      "outputs": [
        {
          "name": "stdout",
          "output_type": "stream",
          "text": [
            "was way to hot for my blood, took a bite and did a jig  lol\n",
            "==================================================\n"
          ]
        }
      ],
      "source": [
        "sent_1500 = decontracted(sent_1500)\n",
        "print(sent_1500)\n",
        "print(\"=\"*50)"
      ]
    },
    {
      "cell_type": "code",
      "execution_count": null,
      "metadata": {
        "colab": {
          "base_uri": "https://localhost:8080/",
          "height": 54
        },
        "id": "6bakeyaQJkkb",
        "outputId": "19fe306f-2850-47f9-d25f-99b048818cee"
      },
      "outputs": [
        {
          "name": "stdout",
          "output_type": "stream",
          "text": [
            "My dogs loves this chicken but its a product from China, so we wont be buying it anymore.  Its very hard to find any chicken products made in the USA but they are out there, but this one isnt.  Its too bad too because its a good product but I wont take any chances till they know what is going on with the china imports.\n"
          ]
        }
      ],
      "source": [
        "#remove words with numbers python: https://stackoverflow.com/a/18082370/4084039\n",
        "sent_0 = re.sub(\"\\S*\\d\\S*\", \"\", sent_0).strip()\n",
        "print(sent_0)"
      ]
    },
    {
      "cell_type": "code",
      "execution_count": null,
      "metadata": {
        "colab": {
          "base_uri": "https://localhost:8080/",
          "height": 34
        },
        "id": "dMqqVqadJkkg",
        "outputId": "ae186d0d-9e92-44fa-f9da-7122fa5dfa6f"
      },
      "outputs": [
        {
          "name": "stdout",
          "output_type": "stream",
          "text": [
            "was way to hot for my blood took a bite and did a jig lol\n"
          ]
        }
      ],
      "source": [
        "#remove spacial character: https://stackoverflow.com/a/5843547/4084039\n",
        "sent_1500 = re.sub('[^A-Za-z0-9]+', ' ', sent_1500)\n",
        "print(sent_1500)"
      ]
    },
    {
      "cell_type": "code",
      "execution_count": null,
      "metadata": {
        "collapsed": true,
        "id": "bvEoXB5NJkkk"
      },
      "outputs": [],
      "source": [
        "# https://gist.github.com/sebleier/554280\n",
        "# we are removing the words from the stop words list: 'no', 'nor', 'not'\n",
        "# <br /><br /> ==> after the above steps, we are getting \"br br\"\n",
        "# we are including them into stop words list\n",
        "# instead of <br /> if we have <br/> these tags would have revmoved in the 1st step\n",
        "\n",
        "stopwords= set(['br', 'the', 'i', 'me', 'my', 'myself', 'we', 'our', 'ours', 'ourselves', 'you', \"you're\", \"you've\",\\\n",
        "            \"you'll\", \"you'd\", 'your', 'yours', 'yourself', 'yourselves', 'he', 'him', 'his', 'himself', \\\n",
        "            'she', \"she's\", 'her', 'hers', 'herself', 'it', \"it's\", 'its', 'itself', 'they', 'them', 'their',\\\n",
        "            'theirs', 'themselves', 'what', 'which', 'who', 'whom', 'this', 'that', \"that'll\", 'these', 'those', \\\n",
        "            'am', 'is', 'are', 'was', 'were', 'be', 'been', 'being', 'have', 'has', 'had', 'having', 'do', 'does', \\\n",
        "            'did', 'doing', 'a', 'an', 'the', 'and', 'but', 'if', 'or', 'because', 'as', 'until', 'while', 'of', \\\n",
        "            'at', 'by', 'for', 'with', 'about', 'against', 'between', 'into', 'through', 'during', 'before', 'after',\\\n",
        "            'above', 'below', 'to', 'from', 'up', 'down', 'in', 'out', 'on', 'off', 'over', 'under', 'again', 'further',\\\n",
        "            'then', 'once', 'here', 'there', 'when', 'where', 'why', 'how', 'all', 'any', 'both', 'each', 'few', 'more',\\\n",
        "            'most', 'other', 'some', 'such', 'only', 'own', 'same', 'so', 'than', 'too', 'very', \\\n",
        "            's', 't', 'can', 'will', 'just', 'don', \"don't\", 'should', \"should've\", 'now', 'd', 'll', 'm', 'o', 're', \\\n",
        "            've', 'y', 'ain', 'aren', \"aren't\", 'couldn', \"couldn't\", 'didn', \"didn't\", 'doesn', \"doesn't\", 'hadn',\\\n",
        "            \"hadn't\", 'hasn', \"hasn't\", 'haven', \"haven't\", 'isn', \"isn't\", 'ma', 'mightn', \"mightn't\", 'mustn',\\\n",
        "            \"mustn't\", 'needn', \"needn't\", 'shan', \"shan't\", 'shouldn', \"shouldn't\", 'wasn', \"wasn't\", 'weren', \"weren't\", \\\n",
        "            'won', \"won't\", 'wouldn', \"wouldn't\"])"
      ]
    },
    {
      "cell_type": "code",
      "execution_count": null,
      "metadata": {
        "colab": {
          "base_uri": "https://localhost:8080/",
          "height": 34
        },
        "id": "0j3jfqWCJkko",
        "outputId": "f2c4f006-e9fd-4f47-9e8f-411f91bc91c2"
      },
      "outputs": [
        {
          "name": "stderr",
          "output_type": "stream",
          "text": [
            "100%|██████████| 87773/87773 [00:32<00:00, 2715.27it/s]\n"
          ]
        }
      ],
      "source": [
        "# Combining all the above stundents \n",
        "from tqdm import tqdm\n",
        "preprocessed_reviews = []\n",
        "# tqdm is for printing the status bar\n",
        "for sentance in tqdm(final['Text'].values):\n",
        "    sentance = re.sub(r\"http\\S+\", \"\", sentance)\n",
        "    sentance = BeautifulSoup(sentance, 'lxml').get_text()\n",
        "    sentance = decontracted(sentance)\n",
        "    sentance = re.sub(\"\\S*\\d\\S*\", \"\", sentance).strip()\n",
        "    sentance = re.sub('[^A-Za-z]+', ' ', sentance)\n",
        "    # https://gist.github.com/sebleier/554280\n",
        "    sentance = ' '.join(e.lower() for e in sentance.split() if e.lower() not in stopwords)\n",
        "    preprocessed_reviews.append(sentance.strip())"
      ]
    },
    {
      "cell_type": "code",
      "execution_count": null,
      "metadata": {
        "colab": {
          "base_uri": "https://localhost:8080/",
          "height": 34
        },
        "id": "nS_7EeV7Jkkr",
        "outputId": "d1f3aad3-38c7-439f-a7f2-c505f173244f"
      },
      "outputs": [
        {
          "data": {
            "text/plain": [
              "'way hot blood took bite jig lol'"
            ]
          },
          "execution_count": 23,
          "metadata": {
            "tags": []
          },
          "output_type": "execute_result"
        }
      ],
      "source": [
        "preprocessed_reviews[1500]"
      ]
    },
    {
      "cell_type": "code",
      "execution_count": null,
      "metadata": {
        "colab": {
          "base_uri": "https://localhost:8080/",
          "height": 124
        },
        "id": "zS0niozAJkkz",
        "outputId": "65c8ba75-c27b-4a79-f9ab-1549a03ca2b7"
      },
      "outputs": [
        {
          "name": "stdout",
          "output_type": "stream",
          "text": [
            "some feature names  ['aa', 'aaa', 'aaaa', 'aaaaa', 'aaaaaaaaaaaa', 'aaaaaaaaaaaaaaa', 'aaaaaaahhhhhh', 'aaaaaaarrrrrggghhh', 'aaaaaawwwwwwwwww', 'aaaaah']\n",
            "==================================================\n",
            "the type of count vectorizer  <class 'scipy.sparse.csr.csr_matrix'>\n",
            "the shape of out text BOW vectorizer  (87773, 54904)\n",
            "the number of unique words  54904\n"
          ]
        }
      ],
      "source": [
        "#BoW\n",
        "count_vect = CountVectorizer() #in scikit-learn\n",
        "count_vect.fit(preprocessed_reviews)\n",
        "print(\"some feature names \", count_vect.get_feature_names()[:10])\n",
        "print('='*50)\n",
        "\n",
        "final_counts = count_vect.transform(preprocessed_reviews)\n",
        "print(\"the type of count vectorizer \",type(final_counts))\n",
        "print(\"the shape of out text BOW vectorizer \",final_counts.get_shape())\n",
        "print(\"the number of unique words \", final_counts.get_shape()[1])"
      ]
    },
    {
      "cell_type": "code",
      "execution_count": null,
      "metadata": {
        "colab": {
          "base_uri": "https://localhost:8080/",
          "height": 69
        },
        "id": "Xgw2pSsoJkk3",
        "outputId": "e3496bfd-713e-45e8-aff2-c8187810e0ea"
      },
      "outputs": [
        {
          "name": "stdout",
          "output_type": "stream",
          "text": [
            "the type of count vectorizer  <class 'scipy.sparse.csr.csr_matrix'>\n",
            "the shape of out text BOW vectorizer  (87773, 5000)\n",
            "the number of unique words including both unigrams and bigrams  5000\n"
          ]
        }
      ],
      "source": [
        "#bi-gram, tri-gram and n-gram\n",
        "\n",
        "#removing stop words like \"not\" should be avoided before building n-grams\n",
        "# count_vect = CountVectorizer(ngram_range=(1,2))\n",
        "# please do read the CountVectorizer documentation http://scikit-learn.org/stable/modules/generated/sklearn.feature_extraction.text.CountVectorizer.html\n",
        "\n",
        "# you can choose these numebrs min_df=10, max_features=5000, of your choice\n",
        "count_vect = CountVectorizer(ngram_range=(1,2), min_df=10, max_features=5000)\n",
        "final_bigram_counts = count_vect.fit_transform(preprocessed_reviews)\n",
        "print(\"the type of count vectorizer \",type(final_bigram_counts))\n",
        "print(\"the shape of out text BOW vectorizer \",final_bigram_counts.get_shape())\n",
        "print(\"the number of unique words including both unigrams and bigrams \", final_bigram_counts.get_shape()[1])"
      ]
    },
    {
      "cell_type": "code",
      "execution_count": null,
      "metadata": {
        "colab": {
          "base_uri": "https://localhost:8080/"
        },
        "id": "ag5-WCR8Jkk7",
        "outputId": "ef40ea93-e720-4817-e2e2-50610d4d06cf"
      },
      "outputs": [
        {
          "name": "stdout",
          "output_type": "stream",
          "text": [
            "some sample features(unique words in the corpus) ['aa', 'aafco', 'aback', 'abandon', 'abandoned', 'abdominal', 'ability', 'able', 'able add', 'able brew']\n",
            "==================================================\n",
            "the type of count vectorizer  <class 'scipy.sparse.csr.csr_matrix'>\n",
            "the shape of out text TFIDF vectorizer  (87773, 51709)\n",
            "the number of unique words including both unigrams and bigrams  51709\n"
          ]
        }
      ],
      "source": [
        "tf_idf_vect = TfidfVectorizer(ngram_range=(1,2), min_df=10)\n",
        "tf_idf_vect.fit(preprocessed_reviews)\n",
        "print(\"some sample features(unique words in the corpus)\",tf_idf_vect.get_feature_names()[0:10])\n",
        "print('='*50)\n",
        "\n",
        "final_tf_idf = tf_idf_vect.transform(preprocessed_reviews)\n",
        "print(\"the type of count vectorizer \",type(final_tf_idf))\n",
        "print(\"the shape of out text TFIDF vectorizer \",final_tf_idf.get_shape())\n",
        "print(\"the number of unique words including both unigrams and bigrams \", final_tf_idf.get_shape()[1])"
      ]
    },
    {
      "cell_type": "markdown",
      "metadata": {
        "id": "RGRFxjhgJklc"
      },
      "source": [
        "##<font color='green'><b>Multinomial Naive Bayes"
      ]
    },
    {
      "cell_type": "code",
      "execution_count": null,
      "metadata": {
        "collapsed": true,
        "id": "StSLXGrFATR_"
      },
      "outputs": [],
      "source": [
        "#  Confusion matrix print function \n",
        "def ConfusionMatrixPrint(cm):\n",
        "  class_label = [\"negative\", \"positive\"]\n",
        "  df_cm = pd.DataFrame(cm, index = class_label, columns = class_label)\n",
        "  sns.heatmap(df_cm, annot = True, fmt = \"d\")\n",
        "  plt.title(\"Confusion Matrix\")\n",
        "  plt.xlabel(\"Predicted Label\")\n",
        "  plt.ylabel(\"True Label\")\n",
        "  plt.show()\n",
        "  \n",
        "def ROCCurvePrint(fpr,tpr, fpr_tr, tpr_tr):\n",
        "  plt.figure()\n",
        "  plt.plot(fpr, tpr,label='Test ROC curve' ,\n",
        "           color='darkorange', linestyle=':', linewidth=4)\n",
        "\n",
        "  plt.plot(fpr_tr, tpr_tr,label='Train ROC curve',\n",
        "           color='navy', linestyle=':', linewidth=4)\n",
        "  plt.plot([0, 1], [0, 1], 'k--')\n",
        "  plt.xlim([0.0, 1.0])\n",
        "  plt.ylim([0.0, 1.05])\n",
        "  plt.xlabel('False Positive Rate')\n",
        "  plt.ylabel('True Positive Rate')\n",
        "  plt.title('ROC CURVE ')\n",
        "  plt.legend(loc=\"lower right\")\n",
        "  plt.show()"
      ]
    },
    {
      "cell_type": "code",
      "execution_count": null,
      "metadata": {
        "collapsed": true,
        "id": "shEYKaEFAsf2"
      },
      "outputs": [],
      "source": [
        "from sklearn.model_selection import cross_validate\n",
        "from sklearn.model_selection import train_test_split\n",
        "from sklearn.metrics import confusion_matrix\n",
        "from sklearn.naive_bayes import MultinomialNB\n"
      ]
    },
    {
      "cell_type": "code",
      "execution_count": null,
      "metadata": {
        "colab": {
          "base_uri": "https://localhost:8080/",
          "height": 104
        },
        "id": "_6rtzHceAfNe",
        "outputId": "52ff42ed-df7f-4e81-9264-795f89f4e839"
      },
      "outputs": [
        {
          "name": "stdout",
          "output_type": "stream",
          "text": [
            "87773\n",
            "87773\n",
            "1    73592\n",
            "0    14181\n",
            "Name: Score, dtype: int64\n"
          ]
        }
      ],
      "source": [
        "X = preprocessed_reviews\n",
        "y = final['Score']\n",
        "print(len(X))\n",
        "print(len(y))\n",
        "print(y.value_counts())\n",
        "# Random Splitting of data using train_test_split\n",
        "X_1, X_test, y_1, y_test = train_test_split(X, y, test_size=0.3, random_state=0)\n",
        "X_tr, X_cv, y_tr, y_cv = train_test_split(X_1, y_1, test_size=0.3)\n"
      ]
    },
    {
      "cell_type": "markdown",
      "metadata": {
        "id": "FxGKHpZlJkle"
      },
      "source": [
        "###<font color='green'><b>BOW"
      ]
    },
    {
      "cell_type": "code",
      "execution_count": null,
      "metadata": {
        "colab": {
          "base_uri": "https://localhost:8080/",
          "height": 52
        },
        "id": "Rw_A_9pfDYMw",
        "outputId": "d9cb6643-fc96-4041-d518-878d2734ca1a"
      },
      "outputs": [
        {
          "name": "stdout",
          "output_type": "stream",
          "text": [
            "Ranges of values from where we search for great penalty\n",
            " [0.0001, 0.001, 0.01, 0.1, 1.0, 10.0, 100.0, 1000.0, 10000.0]\n"
          ]
        }
      ],
      "source": [
        "cv_auc = []\n",
        "train_auc = []\n",
        "iterator = []\n",
        "END = 100000\n",
        "start = 10**-4\n",
        "while start < END:\n",
        "  clf = MultinomialNB(alpha=start)\n",
        "  vectorizer =  CountVectorizer()\n",
        "  vectorizer.fit(X_tr)\n",
        "  X_tr_bow = vectorizer.transform(X_tr)\n",
        "  clf.fit(X_tr_bow,y_tr)\n",
        "  X_cv_bow = vectorizer.transform(X_cv)\n",
        "  y_cv_predict = np.array(clf.predict_proba(X_cv_bow))\n",
        "  preds = np.max(y_cv_predict,axis=1)\n",
        "  fpr, tpr, threshold = metrics.roc_curve(y_cv, preds)\n",
        "  cvAUC = metrics.auc(fpr, tpr)\n",
        "  y_tr_predict = np.array(clf.predict_proba(X_tr_bow))\n",
        "  y_tr_predict = np.max(y_tr_predict,axis=1)\n",
        "  fpr_tr, tpr_tr, threshold_tr = metrics.roc_curve(y_tr, y_tr_predict)\n",
        "  trainAUC = metrics.auc(fpr_tr, tpr_tr)\n",
        "  cv_auc.append(cvAUC)\n",
        "  train_auc.append(trainAUC)\n",
        "  iterator.append(start)\n",
        "  start *= 10 \n",
        "  \n",
        "print(\"Ranges of values from where we search for great penalty\\n\",iterator)\n",
        "\n",
        "iterator =  np.log10(iterator)\n",
        "\n"
      ]
    },
    {
      "cell_type": "code",
      "execution_count": null,
      "metadata": {
        "colab": {
          "base_uri": "https://localhost:8080/",
          "height": 295
        },
        "id": "N86jjgU6bXEW",
        "outputId": "39b0b3be-a25b-44c5-8bfc-acf705dba566"
      },
      "outputs": [
        {
          "data": {
            "image/png": "[encoded data removed]",
            "text/plain": [
              "<Figure size 432x288 with 1 Axes>"
            ]
          },
          "metadata": {
            "tags": []
          },
          "output_type": "display_data"
        }
      ],
      "source": [
        "#plotting the graph \n",
        "plt.plot(iterator, cv_auc, linewidth=2)\n",
        "plt.plot(iterator, train_auc, linewidth=2)\n",
        "plt.axis('tight')\n",
        "plt.grid()\n",
        "plt.title(\"Error plot\")\n",
        "plt.xlabel('Hyper parameter values')\n",
        "plt.ylabel('AUC')\n",
        "plt.legend(['Cross validation AUC', 'Train AUC'], loc='upper right')\n",
        "plt.show()"
      ]
    },
    {
      "cell_type": "markdown",
      "metadata": {
        "id": "pq_PhpEbHl8a"
      },
      "source": [
        "#### Optimal hyperparameter value is 10"
      ]
    },
    {
      "cell_type": "code",
      "execution_count": null,
      "metadata": {
        "colab": {
          "base_uri": "https://localhost:8080/",
          "height": 34
        },
        "id": "91z4iy9FbksP",
        "outputId": "ef91a72d-15d9-4668-9a0d-7f2059ba0322"
      },
      "outputs": [
        {
          "data": {
            "text/plain": [
              "MultinomialNB(alpha=10, class_prior=None, fit_prior=True)"
            ]
          },
          "execution_count": 39,
          "metadata": {
            "tags": []
          },
          "output_type": "execute_result"
        }
      ],
      "source": [
        "clf = MultinomialNB(alpha = 10)\n",
        "vectorizer =  CountVectorizer()\n",
        "vectorizer.fit(X_tr)\n",
        "X_tr_bow = vectorizer.transform(X_tr)\n",
        "clf.fit(X_tr_bow, y_tr)"
      ]
    },
    {
      "cell_type": "code",
      "execution_count": null,
      "metadata": {
        "colab": {
          "base_uri": "https://localhost:8080/",
          "height": 642
        },
        "id": "j1MCrpZxcOVk",
        "outputId": "c332639b-738b-4602-9f24-c8fec7662036"
      },
      "outputs": [
        {
          "name": "stdout",
          "output_type": "stream",
          "text": [
            "Confusion Matrix on Train \n",
            "\n"
          ]
        },
        {
          "data": {
            "image/png": "[encoded data removed]",
            "text/plain": [
              "<Figure size 432x288 with 2 Axes>"
            ]
          },
          "metadata": {
            "tags": []
          },
          "output_type": "display_data"
        },
        {
          "name": "stdout",
          "output_type": "stream",
          "text": [
            "Confusion Matrix on Test \n",
            "\n"
          ]
        },
        {
          "data": {
            "image/png": "[encoded data removed]",
            "text/plain": [
              "<Figure size 432x288 with 2 Axes>"
            ]
          },
          "metadata": {
            "tags": []
          },
          "output_type": "display_data"
        }
      ],
      "source": [
        "predict = clf.predict(X_tr_bow)\n",
        "cm = metrics.confusion_matrix(y_tr, predict)\n",
        "print(\"Confusion Matrix on Train \\n\")\n",
        "ConfusionMatrixPrint(cm)\n",
        "test_dtm = vectorizer.transform(X_test)\n",
        "predict = clf.predict(test_dtm)\n",
        "cm = metrics.confusion_matrix(y_test, predict)\n",
        "print(\"Confusion Matrix on Test \\n\")\n",
        "ConfusionMatrixPrint(cm)"
      ]
    },
    {
      "cell_type": "code",
      "execution_count": null,
      "metadata": {
        "colab": {
          "base_uri": "https://localhost:8080/",
          "height": 330
        },
        "id": "iM1-_IxacNPa",
        "outputId": "c39131e0-b403-4590-829c-9845cc1e0c2a"
      },
      "outputs": [
        {
          "name": "stdout",
          "output_type": "stream",
          "text": [
            "**** TEST AUC ***  0.7138262025118378\n",
            "**** TRAIN AUC *****  0.7409232496339914\n"
          ]
        },
        {
          "data": {
            "image/png": "[encoded data removed]",
            "text/plain": [
              "<Figure size 432x288 with 1 Axes>"
            ]
          },
          "metadata": {
            "tags": []
          },
          "output_type": "display_data"
        }
      ],
      "source": [
        "y_cv_predict = np.array(clf.predict_proba(test_dtm))\n",
        "preds = np.max(y_cv_predict,axis=1)\n",
        "fpr, tpr, threshold = metrics.roc_curve(y_test, preds)\n",
        "roc_auc = metrics.auc(fpr, tpr)\n",
        "print(\"**** TEST AUC *** \", roc_auc)\n",
        "y_tr_predict = np.array(clf.predict_proba(X_tr_bow))\n",
        "y_tr_predict = np.max(y_tr_predict,axis=1)\n",
        "fpr_tr, tpr_tr, threshold_tr = metrics.roc_curve(y_tr, y_tr_predict)\n",
        "#calculating AUC\n",
        "auc = metrics.auc(fpr_tr, tpr_tr)\n",
        "print(\"**** TRAIN AUC ***** \", auc)\n",
        "ROCCurvePrint(fpr,tpr, fpr_tr, tpr_tr)"
      ]
    },
    {
      "cell_type": "markdown",
      "metadata": {
        "id": "u-ZSD3tlJklg"
      },
      "source": [
        "Top 10 important features of positive class and negative class\n"
      ]
    },
    {
      "cell_type": "code",
      "execution_count": null,
      "metadata": {
        "colab": {
          "base_uri": "https://localhost:8080/",
          "height": 799
        },
        "id": "86fu_aO8Jklg",
        "outputId": "d1c96041-9f3b-49f2-a24c-71c86409b3dc"
      },
      "outputs": [
        {
          "name": "stdout",
          "output_type": "stream",
          "text": [
            "Top 20 Negative words ** \n",
            "\n",
            "-11.153952167553747   aa\n",
            "-11.153952167553747   mugicha\n",
            "-11.153952167553747   muggs\n",
            "-11.153952167553747   mugful\n",
            "-11.153952167553747   muffing\n",
            "-11.153952167553747   mueslix\n",
            "-11.153952167553747   mueslis\n",
            "-11.153952167553747   muellers\n",
            "-11.153952167553747   mudslide\n",
            "-11.153952167553747   muddled\n",
            "-11.153952167553747   muddiness\n",
            "-11.153952167553747   mudder\n",
            "-11.153952167553747   mucked\n",
            "-11.153952167553747   mucinex\n",
            "-11.153952167553747   muchtoday\n",
            "-11.153952167553747   muchshinier\n",
            "-11.153952167553747   muchos\n",
            "-11.153952167553747   mucho\n",
            "-11.153952167553747   muchly\n",
            "-11.153952167553747   muchindus\n",
            "\n",
            "Top 20 Positive words ** \n",
            "\n",
            "-12.087196762934049   mtr\n",
            "-12.087196762934049   mut\n",
            "-12.087196762934049   mutagenesis\n",
            "-12.087196762934049   mutant\n",
            "-12.087196762934049   mutate\n",
            "-12.087196762934049   mutters\n",
            "-12.087196762934049   muuuuch\n",
            "-12.087196762934049   clumber\n",
            "-12.087196762934049   myeducation\n",
            "-12.087196762934049   myer\n",
            "-12.087196762934049   mussy\n",
            "-12.087196762934049   cloverhill\n",
            "-12.087196762934049   myopic\n",
            "-12.087196762934049   swelled\n",
            "-12.087196762934049   mystique\n",
            "-12.087196762934049   sweetthe\n",
            "-12.087196762934049   closestto\n",
            "-12.087196762934049   waltzes\n",
            "-12.087196762934049   sweetpotatoes\n",
            "-12.087196762934049   nalt\n"
          ]
        }
      ],
      "source": [
        "neg = clf.feature_log_prob_[0, :]\n",
        "pos = clf.feature_log_prob_[1, :]\n",
        "neg_class_prob_sorted = clf.feature_log_prob_[0, :-1].argsort()\n",
        "pos_class_prob_sorted = clf.feature_log_prob_[1, :-1].argsort()\n",
        "positive_frame =  zip(np.take(vectorizer.get_feature_names(), neg_class_prob_sorted[:20]), neg[neg_class_prob_sorted[:20]])\n",
        "print(\"Top 20 Negative words ** \\n\")                               \n",
        "for key, val in positive_frame:\n",
        "  print(val,\" \", key)\n",
        "positive_frame =  zip(np.take(vectorizer.get_feature_names(), pos_class_prob_sorted[:20]), pos[pos_class_prob_sorted[:20]])\n",
        "print(\"\\nTop 20 Positive words ** \\n\")                               \n",
        "for key, val in positive_frame:\n",
        "  print(val,\" \", key)\n"
      ]
    },
    {
      "cell_type": "markdown",
      "metadata": {
        "id": "6bp7BbwCJkll"
      },
      "source": [
        "###<font color='green'><b>TFIDF"
      ]
    },
    {
      "cell_type": "code",
      "execution_count": 1,
      "metadata": {
        "colab": {
          "base_uri": "https://localhost:8080/",
          "height": 245
        },
        "id": "pQESc28BKySj",
        "outputId": "3ae8feb1-3f0a-48de-a4db-22e4c17d856c"
      },
      "outputs": [
        {
          "output_type": "error",
          "ename": "NameError",
          "evalue": "ignored",
          "traceback": [
            "\u001b[0;31m---------------------------------------------------------------------------\u001b[0m",
            "\u001b[0;31mNameError\u001b[0m                                 Traceback (most recent call last)",
            "\u001b[0;32m<ipython-input-1-a4a1d8a3a427>\u001b[0m in \u001b[0;36m<module>\u001b[0;34m()\u001b[0m\n\u001b[1;32m      5\u001b[0m \u001b[0mstart\u001b[0m \u001b[0;34m=\u001b[0m \u001b[0;36m10\u001b[0m\u001b[0;34m**\u001b[0m\u001b[0;34m-\u001b[0m\u001b[0;36m4\u001b[0m\u001b[0;34m\u001b[0m\u001b[0;34m\u001b[0m\u001b[0m\n\u001b[1;32m      6\u001b[0m \u001b[0;32mwhile\u001b[0m \u001b[0mstart\u001b[0m \u001b[0;34m<\u001b[0m \u001b[0mEND\u001b[0m\u001b[0;34m:\u001b[0m\u001b[0;34m\u001b[0m\u001b[0;34m\u001b[0m\u001b[0m\n\u001b[0;32m----> 7\u001b[0;31m   \u001b[0mclf\u001b[0m \u001b[0;34m=\u001b[0m \u001b[0mMultinomialNB\u001b[0m\u001b[0;34m(\u001b[0m\u001b[0malpha\u001b[0m\u001b[0;34m=\u001b[0m\u001b[0mstart\u001b[0m\u001b[0;34m)\u001b[0m\u001b[0;34m\u001b[0m\u001b[0;34m\u001b[0m\u001b[0m\n\u001b[0m\u001b[1;32m      8\u001b[0m   \u001b[0mvectorizer\u001b[0m \u001b[0;34m=\u001b[0m  \u001b[0mTfidfVectorizer\u001b[0m\u001b[0;34m(\u001b[0m\u001b[0;34m)\u001b[0m\u001b[0;34m\u001b[0m\u001b[0;34m\u001b[0m\u001b[0m\n\u001b[1;32m      9\u001b[0m   \u001b[0mvectorizer\u001b[0m\u001b[0;34m.\u001b[0m\u001b[0mfit\u001b[0m\u001b[0;34m(\u001b[0m\u001b[0mX_tr\u001b[0m\u001b[0;34m)\u001b[0m\u001b[0;34m\u001b[0m\u001b[0;34m\u001b[0m\u001b[0m\n",
            "\u001b[0;31mNameError\u001b[0m: name 'MultinomialNB' is not defined"
          ]
        }
      ],
      "source": [
        "cv_auc = []\n",
        "train_auc = []\n",
        "iterator = []\n",
        "END = 100000\n",
        "start = 10**-4\n",
        "while start < END:\n",
        "  clf = MultinomialNB(alpha=start)\n",
        "  vectorizer =  TfidfVectorizer()\n",
        "  vectorizer.fit(X_tr)\n",
        "  X_tr_bow = vectorizer.transform(X_tr)\n",
        "  clf.fit(X_tr_bow,y_tr)\n",
        "  X_cv_bow = vectorizer.transform(X_cv)\n",
        "  y_cv_predict = np.array(clf.predict_proba(X_cv_bow))\n",
        "  preds = np.max(y_cv_predict,axis=1)\n",
        "  fpr, tpr, threshold = metrics.roc_curve(y_cv, preds)\n",
        "  cvAUC = metrics.auc(fpr, tpr)\n",
        "  y_tr_predict = np.array(clf.predict_proba(X_tr_bow))\n",
        "  y_tr_predict = np.max(y_tr_predict,axis=1)\n",
        "  fpr_tr, tpr_tr, threshold_tr = metrics.roc_curve(y_tr, y_tr_predict)\n",
        "  trainAUC = metrics.auc(fpr_tr, tpr_tr)\n",
        "  cv_auc.append(cvAUC)\n",
        "  train_auc.append(trainAUC)\n",
        "  iterator.append(start)\n",
        "  start *= 10 \n",
        "  \n",
        "print(\"Ranges of values from where we search for great penalty\\n\",iterator)\n",
        "iterator = np.log10(iterator)"
      ]
    },
    {
      "cell_type": "code",
      "execution_count": null,
      "metadata": {
        "id": "2rFG9fskKyS7"
      },
      "outputs": [],
      "source": [
        "#plotting the graph \n",
        "plt.plot(iterator, cv_auc, linewidth=2)\n",
        "plt.plot(iterator, train_auc, linewidth=2)\n",
        "plt.axis('tight')\n",
        "plt.grid()\n",
        "plt.xlabel('Hyper parameter values')\n",
        "plt.ylabel('AUC')\n",
        "plt.legend(['Cross validation AUC', 'Train AUC'], loc='upper right')\n",
        "plt.show()"
      ]
    },
    {
      "cell_type": "markdown",
      "metadata": {
        "id": "gDRB21IhKyUc"
      },
      "source": [
        "#### Optimal hyperparameter value is 0.1"
      ]
    },
    {
      "cell_type": "code",
      "execution_count": null,
      "metadata": {
        "id": "Ii-Qi0ReKyUg"
      },
      "outputs": [],
      "source": [
        "clf = MultinomialNB(alpha = 0.1)\n",
        "vectorizer =  TfidfVectorizer()\n",
        "vectorizer.fit(X_tr)\n",
        "X_tr_bow = vectorizer.transform(X_tr)\n",
        "clf.fit(X_tr_bow, y_tr)"
      ]
    },
    {
      "cell_type": "code",
      "execution_count": null,
      "metadata": {
        "id": "y9j-pca9KyU0"
      },
      "outputs": [],
      "source": [
        "predict = clf.predict(X_tr_bow)\n",
        "cm = metrics.confusion_matrix(y_tr, predict)\n",
        "print(\"Confusion Matrix on Train \\n\")\n",
        "ConfusionMatrixPrint(cm)\n",
        "test_dtm = vectorizer.transform(X_test)\n",
        "predict = clf.predict(test_dtm)\n",
        "cm = metrics.confusion_matrix(y_test, predict)\n",
        "print(\"Confusion Matrix on Test \\n\")\n",
        "ConfusionMatrixPrint(cm)"
      ]
    },
    {
      "cell_type": "code",
      "execution_count": null,
      "metadata": {
        "id": "03e8W5ohKyVJ"
      },
      "outputs": [],
      "source": [
        "y_cv_predict = np.array(clf.predict_proba(test_dtm))\n",
        "preds = np.max(y_cv_predict,axis=1)\n",
        "fpr, tpr, threshold = metrics.roc_curve(y_test, preds)\n",
        "roc_auc = metrics.auc(fpr, tpr)\n",
        "print(\"**** TEST AUC *** \", roc_auc)\n",
        "y_tr_predict = np.array(clf.predict_proba(X_tr_bow))\n",
        "y_tr_predict = np.max(y_tr_predict,axis=1)\n",
        "fpr_tr, tpr_tr, threshold_tr = metrics.roc_curve(y_tr, y_tr_predict)\n",
        "#calculating AUC\n",
        "auc = metrics.auc(fpr_tr, tpr_tr)\n",
        "print(\"**** TRAIN AUC ***** \", auc)\n",
        "ROCCurvePrint(fpr,tpr, fpr_tr, tpr_tr)"
      ]
    },
    {
      "cell_type": "markdown",
      "metadata": {
        "id": "WNzfVqzLKyVq"
      },
      "source": [
        "Top 10 Important features of positive class and negative class"
      ]
    },
    {
      "cell_type": "code",
      "execution_count": null,
      "metadata": {
        "id": "37DoNMUXKyVu"
      },
      "outputs": [],
      "source": [
        "neg = clf.feature_log_prob_[0, :]\n",
        "pos = clf.feature_log_prob_[1, :]\n",
        "neg_class_prob_sorted = clf.feature_log_prob_[0, :-1].argsort()\n",
        "pos_class_prob_sorted = clf.feature_log_prob_[1, :-1].argsort()\n",
        "positive_frame =  zip(np.take(vectorizer.get_feature_names(), neg_class_prob_sorted[:20]), neg[neg_class_prob_sorted[:20]])\n",
        "print(\"Top 20 Negative words ** \\n\")                               \n",
        "for key, val in positive_frame:\n",
        "  print(val,\" \", key)\n",
        "positive_frame =  zip(np.take(vectorizer.get_feature_names(), pos_class_prob_sorted[:20]), pos[pos_class_prob_sorted[:20]])\n",
        "print(\"\\nTop 20 Positive words ** \\n\")                               \n",
        "for key, val in positive_frame:\n",
        "  print(val,\" \", key)\n"
      ]
    },
    {
      "cell_type": "markdown",
      "metadata": {
        "id": "C5QafxLNmyHO"
      },
      "source": [
        "###<font color='green'><b>*Naive* Bayes using Additional Feature (length of feature) on BoW"
      ]
    },
    {
      "cell_type": "code",
      "execution_count": null,
      "metadata": {
        "collapsed": true,
        "id": "TkKrDzShpW-D"
      },
      "outputs": [],
      "source": [
        "X_tr_len = [len(i) for i in X_tr ]\n",
        "X_cv_len = [len(i) for i in X_cv ]\n",
        "X_test_len = [len(i) for i in X_test ]"
      ]
    },
    {
      "cell_type": "code",
      "execution_count": null,
      "metadata": {
        "colab": {
          "base_uri": "https://localhost:8080/",
          "height": 52
        },
        "id": "55FRVPQfqXXo",
        "outputId": "3f73b6a5-0ca5-4315-ed47-a3b5c7906c7b"
      },
      "outputs": [
        {
          "name": "stdout",
          "output_type": "stream",
          "text": [
            "Ranges of values from where we search for great penalty\n",
            " [0.0001, 0.001, 0.01, 0.1, 1.0, 10.0, 100.0, 1000.0, 10000.0]\n"
          ]
        }
      ],
      "source": [
        "from scipy.sparse import coo_matrix\n",
        "from scipy.sparse import coo_matrix, hstack\n",
        "cv_auc = []\n",
        "train_auc = []\n",
        "iterator = []\n",
        "END = 100000\n",
        "start = 10**-4\n",
        "while start < END:\n",
        "  clf = MultinomialNB(alpha=start)\n",
        "  vectorizer =  CountVectorizer()\n",
        "  vectorizer.fit(X_tr)\n",
        "  X_tr_bow = vectorizer.transform(X_tr)\n",
        "  X_tr_bow_coo = coo_matrix(X_tr_bow)\n",
        "  X_tr_len_coo = coo_matrix(X_tr_len)\n",
        "  X_tr_combine = hstack([X_tr_bow_coo, X_tr_len_coo.T])\n",
        "  clf.fit(X_tr_combine,y_tr)\n",
        "  X_cv_bow = vectorizer.transform(X_cv)\n",
        "  X_cv_bow_coo = coo_matrix(X_cv_bow)\n",
        "  X_cv_len_coo = coo_matrix(X_cv_len)\n",
        "  X_cv_combine = hstack([X_cv_bow_coo, X_cv_len_coo.T])\n",
        "  y_cv_predict = np.array(clf.predict_proba(X_cv_combine))\n",
        "  preds = np.max(y_cv_predict,axis=1)\n",
        "  fpr, tpr, threshold = metrics.roc_curve(y_cv, preds)\n",
        "  cvAUC = metrics.auc(fpr, tpr)\n",
        "  y_tr_predict = np.array(clf.predict_proba(X_tr_combine))\n",
        "  y_tr_predict = np.max(y_tr_predict,axis=1)\n",
        "  fpr_tr, tpr_tr, threshold_tr = metrics.roc_curve(y_tr, y_tr_predict)\n",
        "  trainAUC = metrics.auc(fpr_tr, tpr_tr)\n",
        "  cv_auc.append(cvAUC)\n",
        "  train_auc.append(trainAUC)\n",
        "  iterator.append(start)\n",
        "  start *= 10 \n",
        "print(\"Ranges of values from where we search for great penalty\\n\",iterator)\n",
        "\n",
        "\n",
        "\n"
      ]
    },
    {
      "cell_type": "code",
      "execution_count": null,
      "metadata": {
        "colab": {
          "base_uri": "https://localhost:8080/",
          "height": 283
        },
        "id": "7IIZNvjeqXYn",
        "outputId": "87077f0e-cb12-411b-a20e-93d86b3c9bda"
      },
      "outputs": [
        {
          "data": {
            "image/png": "[encoded data removed]",
            "text/plain": [
              "<Figure size 432x288 with 1 Axes>"
            ]
          },
          "metadata": {
            "tags": []
          },
          "output_type": "display_data"
        }
      ],
      "source": [
        "#plotting the graph \n",
        "iterator = np.log10(iterator)\n",
        "plt.plot(iterator, cv_auc, linewidth=2)\n",
        "plt.plot(iterator, train_auc, linewidth=2)\n",
        "plt.axis('tight')\n",
        "plt.grid()\n",
        "plt.xlabel('Hyper parameter values')\n",
        "plt.ylabel('AUC')\n",
        "plt.legend(['Cross validation AUC', 'Train AUC'], loc='upper right')\n",
        "plt.show()"
      ]
    },
    {
      "cell_type": "markdown",
      "metadata": {
        "id": "PmFPuaBstjq2"
      },
      "source": [
        "#### Optimal hyperparameter value is 1"
      ]
    },
    {
      "cell_type": "code",
      "execution_count": null,
      "metadata": {
        "collapsed": true,
        "id": "YT9ukQt7tjq5"
      },
      "outputs": [],
      "source": [
        "clf = MultinomialNB(alpha = 1)\n",
        "vectorizer =  CountVectorizer()\n",
        "vectorizer.fit(X_tr)\n",
        "X_tr_bow = vectorizer.transform(X_tr)\n",
        "X_tr_bow_coo = coo_matrix(X_tr_bow)\n",
        "X_tr_len_coo = coo_matrix(X_tr_len)\n",
        "X_tr_combine = hstack([X_tr_bow_coo, X_tr_len_coo.T])\n",
        "clf.fit(X_tr_combine,y_tr)\n",
        "X_test_bow = vectorizer.transform(X_test)\n",
        "X_test_bow_coo = coo_matrix(X_test_bow)\n",
        "X_test_len_coo = coo_matrix(X_test_len)\n",
        "X_test_combine = hstack([X_test_bow_coo, X_test_len_coo.T])"
      ]
    },
    {
      "cell_type": "code",
      "execution_count": null,
      "metadata": {
        "colab": {
          "base_uri": "https://localhost:8080/",
          "height": 642
        },
        "id": "uVZWgRGZtjrK",
        "outputId": "782df3e2-8f95-4c53-ad41-b0a8c8ec945d"
      },
      "outputs": [
        {
          "name": "stdout",
          "output_type": "stream",
          "text": [
            "Confusion Matrix on Train \n",
            "\n"
          ]
        },
        {
          "data": {
            "image/png": "[encoded data removed]",
            "text/plain": [
              "<Figure size 432x288 with 2 Axes>"
            ]
          },
          "metadata": {
            "tags": []
          },
          "output_type": "display_data"
        },
        {
          "name": "stdout",
          "output_type": "stream",
          "text": [
            "Confusion Matrix on Test \n",
            "\n"
          ]
        },
        {
          "data": {
            "image/png": "[encoded data removed]",
            "text/plain": [
              "<Figure size 432x288 with 2 Axes>"
            ]
          },
          "metadata": {
            "tags": []
          },
          "output_type": "display_data"
        }
      ],
      "source": [
        "predict = clf.predict(X_tr_combine)\n",
        "cm = metrics.confusion_matrix(y_tr, predict)\n",
        "print(\"Confusion Matrix on Train \\n\")\n",
        "ConfusionMatrixPrint(cm)\n",
        "predict = clf.predict(X_test_combine)\n",
        "cm = metrics.confusion_matrix(y_test, predict)\n",
        "print(\"Confusion Matrix on Test \\n\")\n",
        "ConfusionMatrixPrint(cm)"
      ]
    },
    {
      "cell_type": "code",
      "execution_count": null,
      "metadata": {
        "colab": {
          "base_uri": "https://localhost:8080/",
          "height": 330
        },
        "id": "MlX5ok6btjrZ",
        "outputId": "df48b72a-69c4-4841-e8b5-ad06a32ca154"
      },
      "outputs": [
        {
          "name": "stdout",
          "output_type": "stream",
          "text": [
            "**** TEST AUC ***  0.7473505685773385\n",
            "**** TRAIN AUC *****  0.6978387029384505\n"
          ]
        },
        {
          "data": {
            "image/png": "[encoded data removed]",
            "text/plain": [
              "<Figure size 432x288 with 1 Axes>"
            ]
          },
          "metadata": {
            "tags": []
          },
          "output_type": "display_data"
        }
      ],
      "source": [
        "y_cv_predict = np.array(clf.predict_proba(X_test_combine))\n",
        "preds = np.max(y_cv_predict,axis=1)\n",
        "fpr, tpr, threshold = metrics.roc_curve(y_test, preds)\n",
        "roc_auc = metrics.auc(fpr, tpr)\n",
        "print(\"**** TEST AUC *** \", roc_auc)\n",
        "y_tr_predict = np.array(clf.predict_proba(X_tr_combine))\n",
        "y_tr_predict = np.max(y_tr_predict,axis=1)\n",
        "fpr_tr, tpr_tr, threshold_tr = metrics.roc_curve(y_tr, y_tr_predict)\n",
        "#calculating AUC\n",
        "auc = metrics.auc(fpr_tr, tpr_tr)\n",
        "print(\"**** TRAIN AUC ***** \", auc)\n",
        "ROCCurvePrint(fpr,tpr, fpr_tr, tpr_tr)"
      ]
    },
    {
      "cell_type": "markdown",
      "metadata": {
        "id": "5ggL9BuVv_v6"
      },
      "source": [
        "###<font color='green'><b>Naive Bayes using Additional Feature (length of feature) on Tf-Idf"
      ]
    },
    {
      "cell_type": "code",
      "execution_count": null,
      "metadata": {
        "collapsed": true,
        "id": "5znkng5lv_wF"
      },
      "outputs": [],
      "source": [
        "X_tr_len = [len(i) for i in X_tr ]\n",
        "X_cv_len = [len(i) for i in X_cv ]\n",
        "X_test_len = [len(i) for i in X_test ]"
      ]
    },
    {
      "cell_type": "code",
      "execution_count": null,
      "metadata": {
        "colab": {
          "base_uri": "https://localhost:8080/",
          "height": 52
        },
        "id": "pRgB1gd6v_wc",
        "outputId": "54529e73-f935-46f6-eec7-c8bbb06941f7"
      },
      "outputs": [
        {
          "name": "stdout",
          "output_type": "stream",
          "text": [
            "Ranges of values from where we search for great penalty\n",
            " [0.0001, 0.001, 0.01, 0.1, 1.0, 10.0, 100.0, 1000.0, 10000.0]\n"
          ]
        }
      ],
      "source": [
        "from scipy.sparse import coo_matrix\n",
        "from scipy.sparse import coo_matrix, hstack\n",
        "cv_auc = []\n",
        "train_auc = []\n",
        "iterator = []\n",
        "END = 100000\n",
        "start = 10**-4\n",
        "while start < END:\n",
        "  clf = MultinomialNB(alpha=start)\n",
        "  vectorizer =  TfidfVectorizer()\n",
        "  vectorizer.fit(X_tr)\n",
        "  X_tr_bow = vectorizer.transform(X_tr)\n",
        "  X_tr_bow_coo = coo_matrix(X_tr_bow)\n",
        "  X_tr_len_coo = coo_matrix(X_tr_len)\n",
        "  X_tr_combine = hstack([X_tr_bow_coo, X_tr_len_coo.T])\n",
        "  clf.fit(X_tr_combine,y_tr)\n",
        "  X_cv_bow = vectorizer.transform(X_cv)\n",
        "  X_cv_bow_coo = coo_matrix(X_cv_bow)\n",
        "  X_cv_len_coo = coo_matrix(X_cv_len)\n",
        "  X_cv_combine = hstack([X_cv_bow_coo, X_cv_len_coo.T])\n",
        "  y_cv_predict = np.array(clf.predict_proba(X_cv_combine))\n",
        "  preds = np.max(y_cv_predict,axis=1)\n",
        "  fpr, tpr, threshold = metrics.roc_curve(y_cv, preds)\n",
        "  cvAUC = metrics.auc(fpr, tpr)\n",
        "  y_tr_predict = np.array(clf.predict_proba(X_tr_combine))\n",
        "  y_tr_predict = np.max(y_tr_predict,axis=1)\n",
        "  fpr_tr, tpr_tr, threshold_tr = metrics.roc_curve(y_tr, y_tr_predict)\n",
        "  trainAUC = metrics.auc(fpr_tr, tpr_tr)\n",
        "  cv_auc.append(cvAUC)\n",
        "  train_auc.append(trainAUC)\n",
        "  iterator.append(start)\n",
        "  start *= 10 \n",
        "print(\"Ranges of values from where we search for great penalty\\n\",iterator)"
      ]
    },
    {
      "cell_type": "code",
      "execution_count": null,
      "metadata": {
        "colab": {
          "base_uri": "https://localhost:8080/",
          "height": 283
        },
        "id": "XfazoAb2v_wz",
        "outputId": "29a0be74-a18d-4642-83c3-cb68f7a8f0a9"
      },
      "outputs": [
        {
          "data": {
            "image/png": "[encoded data removed]",
            "text/plain": [
              "<Figure size 432x288 with 1 Axes>"
            ]
          },
          "metadata": {
            "tags": []
          },
          "output_type": "display_data"
        }
      ],
      "source": [
        "#plotting the graph \n",
        "iterator = np.log10(iterator)\n",
        "plt.plot(iterator, cv_auc, linewidth=2)\n",
        "plt.plot(iterator, train_auc, linewidth=2)\n",
        "plt.axis('tight')\n",
        "plt.grid()\n",
        "plt.xlabel('Hyper parameter values')\n",
        "plt.ylabel('AUC')\n",
        "plt.legend(['Cross validation AUC', 'Train AUC'], loc='upper right')\n",
        "plt.show()"
      ]
    },
    {
      "cell_type": "markdown",
      "metadata": {
        "id": "8FhYalckv_x8"
      },
      "source": [
        "#### Optimal hyperparameter value is 0.1"
      ]
    },
    {
      "cell_type": "code",
      "execution_count": null,
      "metadata": {
        "collapsed": true,
        "id": "Rp2ivdbyv_yB"
      },
      "outputs": [],
      "source": [
        "clf = MultinomialNB(alpha = 0.1)\n",
        "vectorizer =  TfidfVectorizer()\n",
        "vectorizer.fit(X_tr)\n",
        "X_tr_bow = vectorizer.transform(X_tr)\n",
        "X_tr_bow_coo = coo_matrix(X_tr_bow)\n",
        "X_tr_len_coo = coo_matrix(X_tr_len)\n",
        "X_tr_combine = hstack([X_tr_bow_coo, X_tr_len_coo.T])\n",
        "clf.fit(X_tr_combine,y_tr)\n",
        "X_test_bow = vectorizer.transform(X_test)\n",
        "X_test_bow_coo = coo_matrix(X_test_bow)\n",
        "X_test_len_coo = coo_matrix(X_test_len)\n",
        "X_test_combine = hstack([X_test_bow_coo, X_test_len_coo.T])"
      ]
    },
    {
      "cell_type": "code",
      "execution_count": null,
      "metadata": {
        "colab": {
          "base_uri": "https://localhost:8080/",
          "height": 642
        },
        "id": "NUOzHoFbv_yY",
        "outputId": "0324b48a-759a-4d30-85ac-158637147413"
      },
      "outputs": [
        {
          "name": "stdout",
          "output_type": "stream",
          "text": [
            "Confusion Matrix on Train \n",
            "\n"
          ]
        },
        {
          "data": {
            "image/png": "[encoded data removed]",
            "text/plain": [
              "<Figure size 432x288 with 2 Axes>"
            ]
          },
          "metadata": {
            "tags": []
          },
          "output_type": "display_data"
        },
        {
          "name": "stdout",
          "output_type": "stream",
          "text": [
            "Confusion Matrix on Test \n",
            "\n"
          ]
        },
        {
          "data": {
            "image/png": "[encoded data removed]",
            "text/plain": [
              "<Figure size 432x288 with 2 Axes>"
            ]
          },
          "metadata": {
            "tags": []
          },
          "output_type": "display_data"
        }
      ],
      "source": [
        "predict = clf.predict(X_tr_combine)\n",
        "cm = metrics.confusion_matrix(y_tr, predict)\n",
        "print(\"Confusion Matrix on Train \\n\")\n",
        "ConfusionMatrixPrint(cm)\n",
        "predict = clf.predict(X_test_combine)\n",
        "cm = metrics.confusion_matrix(y_test, predict)\n",
        "print(\"Confusion Matrix on Test \\n\")\n",
        "ConfusionMatrixPrint(cm)"
      ]
    },
    {
      "cell_type": "code",
      "execution_count": null,
      "metadata": {
        "colab": {
          "base_uri": "https://localhost:8080/",
          "height": 330
        },
        "id": "k0u2UElcv_yr",
        "outputId": "8e210707-ea33-4d75-ab2d-f537bad62188"
      },
      "outputs": [
        {
          "name": "stdout",
          "output_type": "stream",
          "text": [
            "**** TEST AUC ***  0.9124841828822619\n",
            "**** TRAIN AUC *****  0.9292056148149841\n"
          ]
        },
        {
          "data": {
            "image/png": "[encoded data removed]",
            "text/plain": [
              "<Figure size 432x288 with 1 Axes>"
            ]
          },
          "metadata": {
            "tags": []
          },
          "output_type": "display_data"
        }
      ],
      "source": [
        "y_cv_predict = np.array(clf.predict_proba(X_test_combine))\n",
        "preds = np.max(y_cv_predict,axis=1)\n",
        "fpr, tpr, threshold = metrics.roc_curve(y_test, preds)\n",
        "roc_auc = metrics.auc(fpr, tpr)\n",
        "print(\"**** TEST AUC *** \", roc_auc)\n",
        "y_tr_predict = np.array(clf.predict_proba(X_tr_combine))\n",
        "y_tr_predict = np.max(y_tr_predict,axis=1)\n",
        "fpr_tr, tpr_tr, threshold_tr = metrics.roc_curve(y_tr, y_tr_predict)\n",
        "#calculating AUC\n",
        "auc = metrics.auc(fpr_tr, tpr_tr)\n",
        "print(\"**** TRAIN AUC ***** \", auc)\n",
        "ROCCurvePrint(fpr,tpr, fpr_tr, tpr_tr)"
      ]
    },
    {
      "cell_type": "markdown",
      "metadata": {
        "id": "vst5Y7mmJklu"
      },
      "source": [
        "##<font color='green'><b>Conclusions"
      ]
    },
    {
      "cell_type": "code",
      "execution_count": null,
      "metadata": {
        "colab": {
          "base_uri": "https://localhost:8080/",
          "height": 156
        },
        "id": "De9HYtIGJklv",
        "outputId": "171f066b-f128-4e46-b67d-cc3a3c03157a"
      },
      "outputs": [
        {
          "name": "stdout",
          "output_type": "stream",
          "text": [
            "+------+---------------------------------+----------------------+----------+\n",
            "| S.NO |        Model Description        | Hyperparameter value | Test AUC |\n",
            "+------+---------------------------------+----------------------+----------+\n",
            "|  1   |               BoW               |         10.0         |  71.52   |\n",
            "|  2   |              TF-IDF             |         0.1          |  91.22   |\n",
            "|  3   |   BoW with Additional feature   |         1.0          |  74.24   |\n",
            "|  4   |  TF-IDF with Additional feature |         0.1          |  91.20   |\n",
            "+------+---------------------------------+----------------------+----------+\n"
          ]
        }
      ],
      "source": [
        "from prettytable import PrettyTable\n",
        "x = PrettyTable()\n",
        "x.add_column(\"S.NO\",[1,2,3,4])\n",
        "x.add_column(\"Model Description\",[\"BoW\",\" TF-IDF\",\"BoW with Additional feature\",\" TF-IDF with Additional feature\"])\n",
        "x.add_column(\"Hyperparameter value\",[\"10.0\",\"0.1\",\"1.0\",\"0.1\"])\n",
        "x.add_column(\"Test AUC\",[\"71.52\" ,\"91.22\",\"74.24\",\"91.20\" ])\n",
        "print(x)"
      ]
    }
  ],
  "metadata": {
    "colab": {
      "name": "NB.ipynb",
      "provenance": [],
      "include_colab_link": true
    },
    "kernelspec": {
      "display_name": "Python 3",
      "language": "python",
      "name": "python3"
    },
    "language_info": {
      "codemirror_mode": {
        "name": "ipython",
        "version": 3
      },
      "file_extension": ".py",
      "mimetype": "text/x-python",
      "name": "python",
      "nbconvert_exporter": "python",
      "pygments_lexer": "ipython3",
      "version": "3.6.3"
    }
  },
  "nbformat": 4,
  "nbformat_minor": 0
}